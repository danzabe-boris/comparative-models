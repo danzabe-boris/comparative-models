{
 "cells": [
  {
   "cell_type": "markdown",
   "id": "babf1f9d",
   "metadata": {
    "_cell_guid": "b1076dfc-b9ad-4769-8c92-a6c4dae69d19",
    "_uuid": "8f2839f25d086af736a60e9eeb907d3b93b6e0e5",
    "papermill": {
     "duration": 0.00942,
     "end_time": "2022-09-10T09:30:34.419697",
     "exception": false,
     "start_time": "2022-09-10T09:30:34.410277",
     "status": "completed"
    },
    "tags": []
   },
   "source": [
    "This Notebook compares the performance and accuracy of the top 10 differrent types of machine learning algorithms for Classification on the same Dataset without any EDA done. The goal is to present to you the 10 most popular Classification Algorithms. In this notebook we will have the algorithmes below:\n",
    "\n",
    "* Logistique Regression\n",
    "* Random Forest \n",
    "* Support Vector Machines (SVM)\n",
    "* Gradient Boosting\n",
    "* Decision Tree \n",
    "* Neural Network Regression\n",
    "* KNN Model\n",
    "* Naive Bayes\n",
    "* Voting Classification\n",
    "* Boosting Decision Tree\n",
    "* XGBRegressor \n",
    "\n",
    "**We will use the method based on cross validation because this allows us to have a real overview of the score of our models**"
   ]
  },
  {
   "cell_type": "markdown",
   "id": "e3791405",
   "metadata": {
    "papermill": {
     "duration": 0.006969,
     "end_time": "2022-09-10T09:30:34.434719",
     "exception": false,
     "start_time": "2022-09-10T09:30:34.427750",
     "status": "completed"
    },
    "tags": []
   },
   "source": [
    "## **Loading all packages to use in this tutorial**"
   ]
  },
  {
   "cell_type": "code",
   "execution_count": 1,
   "id": "c242f6a0",
   "metadata": {
    "execution": {
     "iopub.execute_input": "2022-09-10T09:30:34.451858Z",
     "iopub.status.busy": "2022-09-10T09:30:34.451219Z",
     "iopub.status.idle": "2022-09-10T09:30:35.951561Z",
     "shell.execute_reply": "2022-09-10T09:30:35.950228Z"
    },
    "papermill": {
     "duration": 1.512823,
     "end_time": "2022-09-10T09:30:35.954684",
     "exception": false,
     "start_time": "2022-09-10T09:30:34.441861",
     "status": "completed"
    },
    "tags": []
   },
   "outputs": [],
   "source": [
    "import pandas as pd\n",
    "import matplotlib.pyplot as plt\n",
    "\n",
    "\n",
    "from sklearn.ensemble import RandomForestClassifier, GradientBoostingClassifier, VotingClassifier, AdaBoostClassifier\n",
    "from sklearn.linear_model import LogisticRegression\n",
    "from sklearn.tree import DecisionTreeClassifier\n",
    "from sklearn.neighbors import KNeighborsClassifier\n",
    "from sklearn.neural_network import MLPClassifier\n",
    "from sklearn.model_selection import cross_val_score\n",
    "from sklearn.preprocessing import OrdinalEncoder, StandardScaler\n",
    "from sklearn.impute import KNNImputer\n",
    "from sklearn.pipeline import Pipeline\n",
    "from sklearn.compose import ColumnTransformer\n",
    "from sklearn.naive_bayes import GaussianNB, MultinomialNB\n",
    "from xgboost import XGBRegressor\n",
    "from sklearn.svm import LinearSVC"
   ]
  },
  {
   "cell_type": "markdown",
   "id": "d2a2fb3f",
   "metadata": {
    "papermill": {
     "duration": 0.007806,
     "end_time": "2022-09-10T09:30:35.973586",
     "exception": false,
     "start_time": "2022-09-10T09:30:35.965780",
     "status": "completed"
    },
    "tags": []
   },
   "source": [
    "## **Loading of database training and validate**"
   ]
  },
  {
   "cell_type": "code",
   "execution_count": 2,
   "id": "ee06dc7e",
   "metadata": {
    "execution": {
     "iopub.execute_input": "2022-09-10T09:30:35.989110Z",
     "iopub.status.busy": "2022-09-10T09:30:35.988682Z",
     "iopub.status.idle": "2022-09-10T09:30:36.019574Z",
     "shell.execute_reply": "2022-09-10T09:30:36.018284Z"
    },
    "papermill": {
     "duration": 0.041496,
     "end_time": "2022-09-10T09:30:36.022260",
     "exception": false,
     "start_time": "2022-09-10T09:30:35.980764",
     "status": "completed"
    },
    "tags": []
   },
   "outputs": [],
   "source": [
    "data = pd.read_csv(\"../input/titanic/train.csv\", index_col = 'PassengerId')"
   ]
  },
  {
   "cell_type": "markdown",
   "id": "fb4f0aaa",
   "metadata": {
    "papermill": {
     "duration": 0.006866,
     "end_time": "2022-09-10T09:30:36.036421",
     "exception": false,
     "start_time": "2022-09-10T09:30:36.029555",
     "status": "completed"
    },
    "tags": []
   },
   "source": [
    "### **Shape analysis of our database**"
   ]
  },
  {
   "cell_type": "code",
   "execution_count": 3,
   "id": "4c557d71",
   "metadata": {
    "execution": {
     "iopub.execute_input": "2022-09-10T09:30:36.054348Z",
     "iopub.status.busy": "2022-09-10T09:30:36.052359Z",
     "iopub.status.idle": "2022-09-10T09:30:36.116978Z",
     "shell.execute_reply": "2022-09-10T09:30:36.115695Z"
    },
    "papermill": {
     "duration": 0.077586,
     "end_time": "2022-09-10T09:30:36.121814",
     "exception": false,
     "start_time": "2022-09-10T09:30:36.044228",
     "status": "completed"
    },
    "tags": []
   },
   "outputs": [
    {
     "name": "stdout",
     "output_type": "stream",
     "text": [
      "(891, 11)\n",
      "----------------------------------------\n",
      "<class 'pandas.core.frame.DataFrame'>\n",
      "Int64Index: 891 entries, 1 to 891\n",
      "Data columns (total 11 columns):\n",
      " #   Column    Non-Null Count  Dtype  \n",
      "---  ------    --------------  -----  \n",
      " 0   Survived  891 non-null    int64  \n",
      " 1   Pclass    891 non-null    int64  \n",
      " 2   Name      891 non-null    object \n",
      " 3   Sex       891 non-null    object \n",
      " 4   Age       714 non-null    float64\n",
      " 5   SibSp     891 non-null    int64  \n",
      " 6   Parch     891 non-null    int64  \n",
      " 7   Ticket    891 non-null    object \n",
      " 8   Fare      891 non-null    float64\n",
      " 9   Cabin     204 non-null    object \n",
      " 10  Embarked  889 non-null    object \n",
      "dtypes: float64(2), int64(4), object(5)\n",
      "memory usage: 83.5+ KB\n",
      "None\n",
      "--------------------------------------------------\n",
      "         Survived      Pclass         Age       SibSp       Parch        Fare\n",
      "count  891.000000  891.000000  714.000000  891.000000  891.000000  891.000000\n",
      "mean     0.383838    2.308642   29.699118    0.523008    0.381594   32.204208\n",
      "std      0.486592    0.836071   14.526497    1.102743    0.806057   49.693429\n",
      "min      0.000000    1.000000    0.420000    0.000000    0.000000    0.000000\n",
      "25%      0.000000    2.000000   20.125000    0.000000    0.000000    7.910400\n",
      "50%      0.000000    3.000000   28.000000    0.000000    0.000000   14.454200\n",
      "75%      1.000000    3.000000   38.000000    1.000000    0.000000   31.000000\n",
      "max      1.000000    3.000000   80.000000    8.000000    6.000000  512.329200\n",
      "--------------------------------------------------\n",
      "                           Name   Sex  Ticket    Cabin Embarked\n",
      "count                       891   891     891      204      889\n",
      "unique                      891     2     681      147        3\n",
      "top     Braund, Mr. Owen Harris  male  347082  B96 B98        S\n",
      "freq                          1   577       7        4      644\n",
      "--------------------------------------------------\n",
      "             Survived  Pclass  \\\n",
      "PassengerId                     \n",
      "1                   0       3   \n",
      "2                   1       1   \n",
      "3                   1       3   \n",
      "4                   1       1   \n",
      "5                   0       3   \n",
      "\n",
      "                                                          Name     Sex   Age  \\\n",
      "PassengerId                                                                    \n",
      "1                                      Braund, Mr. Owen Harris    male  22.0   \n",
      "2            Cumings, Mrs. John Bradley (Florence Briggs Th...  female  38.0   \n",
      "3                                       Heikkinen, Miss. Laina  female  26.0   \n",
      "4                 Futrelle, Mrs. Jacques Heath (Lily May Peel)  female  35.0   \n",
      "5                                     Allen, Mr. William Henry    male  35.0   \n",
      "\n",
      "             SibSp  Parch            Ticket     Fare Cabin Embarked  \n",
      "PassengerId                                                          \n",
      "1                1      0         A/5 21171   7.2500   NaN        S  \n",
      "2                1      0          PC 17599  71.2833   C85        C  \n",
      "3                0      0  STON/O2. 3101282   7.9250   NaN        S  \n",
      "4                1      0            113803  53.1000  C123        S  \n",
      "5                0      0            373450   8.0500   NaN        S  \n"
     ]
    }
   ],
   "source": [
    "print(data.shape)\n",
    "print('-'*40)\n",
    "print(data.info())\n",
    "print('-'*50)\n",
    "print(data.describe())\n",
    "print('-'*50)\n",
    "print(data.describe(include=['O']))\n",
    "print('-'*50)\n",
    "print(data.head(5))"
   ]
  },
  {
   "cell_type": "code",
   "execution_count": 4,
   "id": "279e4dbd",
   "metadata": {
    "execution": {
     "iopub.execute_input": "2022-09-10T09:30:36.138951Z",
     "iopub.status.busy": "2022-09-10T09:30:36.138582Z",
     "iopub.status.idle": "2022-09-10T09:30:36.154398Z",
     "shell.execute_reply": "2022-09-10T09:30:36.152811Z"
    },
    "papermill": {
     "duration": 0.026208,
     "end_time": "2022-09-10T09:30:36.156726",
     "exception": false,
     "start_time": "2022-09-10T09:30:36.130518",
     "status": "completed"
    },
    "tags": []
   },
   "outputs": [
    {
     "data": {
      "text/plain": [
       "Survived     0.000000\n",
       "Pclass       0.000000\n",
       "Name         0.000000\n",
       "Sex          0.000000\n",
       "SibSp        0.000000\n",
       "Parch        0.000000\n",
       "Ticket       0.000000\n",
       "Fare         0.000000\n",
       "Embarked     0.224467\n",
       "Age         19.865320\n",
       "Cabin       77.104377\n",
       "dtype: float64"
      ]
     },
     "execution_count": 4,
     "metadata": {},
     "output_type": "execute_result"
    }
   ],
   "source": [
    "(data.isnull().sum().sort_values(ascending=True)*100)/data.shape[0]"
   ]
  },
  {
   "cell_type": "markdown",
   "id": "c5853f33",
   "metadata": {
    "papermill": {
     "duration": 0.007265,
     "end_time": "2022-09-10T09:30:36.171295",
     "exception": false,
     "start_time": "2022-09-10T09:30:36.164030",
     "status": "completed"
    },
    "tags": []
   },
   "source": [
    "* _Cabin_ variable contains **77.10%** of missing values so its can be said to be useless for us, so it will droped.\n",
    "* _Age_ variable contains **19.87%** of missing values and so can be imputed using a chosen method\n",
    "* Lastly the _Embarked_ variable contain less than **1%** of missing values so can easily be imputed using a choosen methode."
   ]
  },
  {
   "cell_type": "markdown",
   "id": "fe74185c",
   "metadata": {
    "execution": {
     "iopub.execute_input": "2022-08-20T21:55:25.053414Z",
     "iopub.status.busy": "2022-08-20T21:55:25.052194Z",
     "iopub.status.idle": "2022-08-20T21:55:25.063164Z",
     "shell.execute_reply": "2022-08-20T21:55:25.061742Z",
     "shell.execute_reply.started": "2022-08-20T21:55:25.053364Z"
    },
    "papermill": {
     "duration": 0.00727,
     "end_time": "2022-09-10T09:30:36.186747",
     "exception": false,
     "start_time": "2022-09-10T09:30:36.179477",
     "status": "completed"
    },
    "tags": []
   },
   "source": [
    "## **Feature selection**"
   ]
  },
  {
   "cell_type": "code",
   "execution_count": 5,
   "id": "e60b4e15",
   "metadata": {
    "execution": {
     "iopub.execute_input": "2022-09-10T09:30:36.204675Z",
     "iopub.status.busy": "2022-09-10T09:30:36.202681Z",
     "iopub.status.idle": "2022-09-10T09:30:36.210260Z",
     "shell.execute_reply": "2022-09-10T09:30:36.208940Z"
    },
    "papermill": {
     "duration": 0.019007,
     "end_time": "2022-09-10T09:30:36.213109",
     "exception": false,
     "start_time": "2022-09-10T09:30:36.194102",
     "status": "completed"
    },
    "tags": []
   },
   "outputs": [],
   "source": [
    "features = [\"Pclass\", \"Sex\", \"Age\", \"SibSp\", \"Parch\", \"Fare\"]\n",
    "X = data [features]\n",
    "y = data [\"Survived\"]"
   ]
  },
  {
   "cell_type": "markdown",
   "id": "8dc89eed",
   "metadata": {
    "papermill": {
     "duration": 0.007207,
     "end_time": "2022-09-10T09:30:36.227890",
     "exception": false,
     "start_time": "2022-09-10T09:30:36.220683",
     "status": "completed"
    },
    "tags": []
   },
   "source": [
    "## **Cleaning data with Pipeline**"
   ]
  },
  {
   "cell_type": "code",
   "execution_count": 6,
   "id": "4e968bb3",
   "metadata": {
    "execution": {
     "iopub.execute_input": "2022-09-10T09:30:36.245323Z",
     "iopub.status.busy": "2022-09-10T09:30:36.243520Z",
     "iopub.status.idle": "2022-09-10T09:30:36.254407Z",
     "shell.execute_reply": "2022-09-10T09:30:36.253064Z"
    },
    "papermill": {
     "duration": 0.021876,
     "end_time": "2022-09-10T09:30:36.257161",
     "exception": false,
     "start_time": "2022-09-10T09:30:36.235285",
     "status": "completed"
    },
    "tags": []
   },
   "outputs": [],
   "source": [
    "cat = [col for col in X.select_dtypes(include = \"object\")]\n",
    "num = [col for col in X.select_dtypes(exclude = \"object\")]\n",
    "cat_pipeline = Pipeline(steps = [\n",
    "                            (\"encode\", OrdinalEncoder())\n",
    "])\n",
    "num_pipline = Pipeline(steps = [\n",
    "                            (\"impute\", KNNImputer(n_neighbors = 5)),\n",
    "                            (\"standard\", StandardScaler())\n",
    "])"
   ]
  },
  {
   "cell_type": "code",
   "execution_count": 7,
   "id": "4ce07411",
   "metadata": {
    "execution": {
     "iopub.execute_input": "2022-09-10T09:30:36.273756Z",
     "iopub.status.busy": "2022-09-10T09:30:36.273318Z",
     "iopub.status.idle": "2022-09-10T09:30:36.278602Z",
     "shell.execute_reply": "2022-09-10T09:30:36.277162Z"
    },
    "papermill": {
     "duration": 0.016667,
     "end_time": "2022-09-10T09:30:36.281410",
     "exception": false,
     "start_time": "2022-09-10T09:30:36.264743",
     "status": "completed"
    },
    "tags": []
   },
   "outputs": [],
   "source": [
    "transform = ColumnTransformer(transformers = [\n",
    "                    (\"cat\", cat_pipeline, cat),\n",
    "                    (\"num\", num_pipline, num)\n",
    "])"
   ]
  },
  {
   "cell_type": "markdown",
   "id": "48800946",
   "metadata": {
    "papermill": {
     "duration": 0.007177,
     "end_time": "2022-09-10T09:30:36.295692",
     "exception": false,
     "start_time": "2022-09-10T09:30:36.288515",
     "status": "completed"
    },
    "tags": []
   },
   "source": [
    "## **Time to train and compare our models**"
   ]
  },
  {
   "cell_type": "markdown",
   "id": "aa482933",
   "metadata": {
    "papermill": {
     "duration": 0.007495,
     "end_time": "2022-09-10T09:30:36.311983",
     "exception": false,
     "start_time": "2022-09-10T09:30:36.304488",
     "status": "completed"
    },
    "tags": []
   },
   "source": [
    "### 1 . Logistique Regression\n",
    "\n",
    "Logistic Regression is one of the oldest and most basic algorithms to solve a classification problem:"
   ]
  },
  {
   "cell_type": "code",
   "execution_count": 8,
   "id": "9a8845cd",
   "metadata": {
    "execution": {
     "iopub.execute_input": "2022-09-10T09:30:36.328699Z",
     "iopub.status.busy": "2022-09-10T09:30:36.327703Z",
     "iopub.status.idle": "2022-09-10T09:30:36.889899Z",
     "shell.execute_reply": "2022-09-10T09:30:36.888285Z"
    },
    "papermill": {
     "duration": 0.574987,
     "end_time": "2022-09-10T09:30:36.894305",
     "exception": false,
     "start_time": "2022-09-10T09:30:36.319318",
     "status": "completed"
    },
    "tags": []
   },
   "outputs": [
    {
     "name": "stdout",
     "output_type": "stream",
     "text": [
      "0.792350386100386 0.026519008904844765\n"
     ]
    }
   ],
   "source": [
    "lr = LogisticRegression(max_iter=500)\n",
    "pipeline = Pipeline(steps = [\n",
    "                    (\"transformer\", transform),\n",
    "                    (\"model\", lr)\n",
    "])\n",
    "scores_lr = cross_val_score(pipeline, X, y, cv = 8)\n",
    "print(scores_lr.mean(), scores_lr.std())"
   ]
  },
  {
   "cell_type": "markdown",
   "id": "e48b045d",
   "metadata": {
    "papermill": {
     "duration": 0.027259,
     "end_time": "2022-09-10T09:30:36.949096",
     "exception": false,
     "start_time": "2022-09-10T09:30:36.921837",
     "status": "completed"
    },
    "tags": []
   },
   "source": [
    "### **2 . Naive Bayes**\n",
    "\n",
    "The Naive Bayes method is a supervised learning algorithm based on applying Bayes’ theorem with the “naive” assumption of conditional independence between every pair of features given the value of the class variable."
   ]
  },
  {
   "cell_type": "code",
   "execution_count": 9,
   "id": "9d46422e",
   "metadata": {
    "execution": {
     "iopub.execute_input": "2022-09-10T09:30:36.975052Z",
     "iopub.status.busy": "2022-09-10T09:30:36.974630Z",
     "iopub.status.idle": "2022-09-10T09:30:37.427955Z",
     "shell.execute_reply": "2022-09-10T09:30:37.425900Z"
    },
    "papermill": {
     "duration": 0.466319,
     "end_time": "2022-09-10T09:30:37.431897",
     "exception": false,
     "start_time": "2022-09-10T09:30:36.965578",
     "status": "completed"
    },
    "tags": []
   },
   "outputs": [
    {
     "name": "stdout",
     "output_type": "stream",
     "text": [
      "0.7834117599742599 0.021913924410353145\n"
     ]
    }
   ],
   "source": [
    "nb = GaussianNB()\n",
    "pipeline = Pipeline(steps = [\n",
    "                    (\"transformer\", transform),\n",
    "                    (\"model\", nb)\n",
    "])\n",
    "scores_nb = cross_val_score(pipeline, X, y, cv = 8)\n",
    "print(scores_nb.mean(), scores_nb.std())"
   ]
  },
  {
   "cell_type": "markdown",
   "id": "4d895263",
   "metadata": {
    "papermill": {
     "duration": 0.02655,
     "end_time": "2022-09-10T09:30:37.485455",
     "exception": false,
     "start_time": "2022-09-10T09:30:37.458905",
     "status": "completed"
    },
    "tags": []
   },
   "source": [
    "### 3 .**KNN**\n",
    "\n",
    "The k-nearest neighbors (KNN) algorithm is a supervised machine learning algorithm that can be used to solve both classification and regression problems. For KNN, it is known that it does not work so well with large datasets (high sample size) and in with many features (high dimensions) in particular."
   ]
  },
  {
   "cell_type": "code",
   "execution_count": 10,
   "id": "6ce2c676",
   "metadata": {
    "execution": {
     "iopub.execute_input": "2022-09-10T09:30:37.520844Z",
     "iopub.status.busy": "2022-09-10T09:30:37.520400Z",
     "iopub.status.idle": "2022-09-10T09:30:38.103856Z",
     "shell.execute_reply": "2022-09-10T09:30:38.101973Z"
    },
    "papermill": {
     "duration": 0.597344,
     "end_time": "2022-09-10T09:30:38.108155",
     "exception": false,
     "start_time": "2022-09-10T09:30:37.510811",
     "status": "completed"
    },
    "tags": []
   },
   "outputs": [
    {
     "name": "stdout",
     "output_type": "stream",
     "text": [
      "0.7980715090090089 0.03587288243314131\n"
     ]
    }
   ],
   "source": [
    "knn = KNeighborsClassifier()\n",
    "pipeline = Pipeline(steps = [\n",
    "                    (\"transformer\", transform),\n",
    "                    (\"model\", knn)\n",
    "])\n",
    "scores_knn = cross_val_score(pipeline, X, y, cv = 8)\n",
    "print(scores_knn.mean(), scores_knn.std())"
   ]
  },
  {
   "cell_type": "markdown",
   "id": "ec8e7030",
   "metadata": {
    "papermill": {
     "duration": 0.02562,
     "end_time": "2022-09-10T09:30:38.160608",
     "exception": false,
     "start_time": "2022-09-10T09:30:38.134988",
     "status": "completed"
    },
    "tags": []
   },
   "source": [
    "### 4 . **Random Forest**\n",
    "\n",
    "The Random Forest Algorithm is another frequently used ensemble learning classifier which uses multiple decision trees. The Random Forest classifier is basically a modified bagging algorithm of a Decision Tree that selects the subsets differently. I found out that max_depth=10 is a good value for this feature-rich dataset."
   ]
  },
  {
   "cell_type": "code",
   "execution_count": 11,
   "id": "2d1e76b5",
   "metadata": {
    "execution": {
     "iopub.execute_input": "2022-09-10T09:30:38.184329Z",
     "iopub.status.busy": "2022-09-10T09:30:38.183955Z",
     "iopub.status.idle": "2022-09-10T09:30:42.385484Z",
     "shell.execute_reply": "2022-09-10T09:30:42.382719Z"
    },
    "papermill": {
     "duration": 4.213822,
     "end_time": "2022-09-10T09:30:42.389577",
     "exception": false,
     "start_time": "2022-09-10T09:30:38.175755",
     "status": "completed"
    },
    "tags": []
   },
   "outputs": [
    {
     "name": "stdout",
     "output_type": "stream",
     "text": [
      "0.8282922183928895 0.037880790101198346\n"
     ]
    }
   ],
   "source": [
    "rand = RandomForestClassifier(n_estimators=300, max_depth=10)\n",
    "pipeline = Pipeline(steps = [\n",
    "                    (\"transformer\", transform),\n",
    "                    (\"model\", rand)\n",
    "])\n",
    "scores_rand = cross_val_score(pipeline, X, y, cv = 6)\n",
    "print(scores_rand.mean(), scores_rand.std())"
   ]
  },
  {
   "cell_type": "markdown",
   "id": "c4f591ff",
   "metadata": {
    "papermill": {
     "duration": 0.007646,
     "end_time": "2022-09-10T09:30:42.405817",
     "exception": false,
     "start_time": "2022-09-10T09:30:42.398171",
     "status": "completed"
    },
    "tags": []
   },
   "source": [
    "### 5 . **Decision Tree**\n",
    "\n",
    "A Decision Tree is a non-parametric supervised learning method used for classification and regression. The goal is to create a model that predicts the value of a target variable by learning simple decision rules (if-else) inferred from the data features."
   ]
  },
  {
   "cell_type": "code",
   "execution_count": 12,
   "id": "754a0ee6",
   "metadata": {
    "execution": {
     "iopub.execute_input": "2022-09-10T09:30:42.424127Z",
     "iopub.status.busy": "2022-09-10T09:30:42.423706Z",
     "iopub.status.idle": "2022-09-10T09:30:42.861508Z",
     "shell.execute_reply": "2022-09-10T09:30:42.859918Z"
    },
    "papermill": {
     "duration": 0.458511,
     "end_time": "2022-09-10T09:30:42.872981",
     "exception": false,
     "start_time": "2022-09-10T09:30:42.414470",
     "status": "completed"
    },
    "tags": []
   },
   "outputs": [
    {
     "name": "stdout",
     "output_type": "stream",
     "text": [
      "0.7789467319668661 0.0290662276117828\n"
     ]
    }
   ],
   "source": [
    "tr = DecisionTreeClassifier()\n",
    "pipeline = Pipeline(steps = [\n",
    "                    (\"transformer\", transform),\n",
    "                    (\"model\", tr)\n",
    "])\n",
    "scores_tr = cross_val_score(pipeline, X, y, cv = 6)\n",
    "print(scores_tr.mean(), scores_tr.std())"
   ]
  },
  {
   "cell_type": "markdown",
   "id": "7368f2f4",
   "metadata": {
    "papermill": {
     "duration": 0.013205,
     "end_time": "2022-09-10T09:30:42.940907",
     "exception": false,
     "start_time": "2022-09-10T09:30:42.927702",
     "status": "completed"
    },
    "tags": []
   },
   "source": [
    "### 6 . **Gradient Boosting**\n",
    "\n",
    "The idea behind boosting comes from the intuition that weak learners could be modified in order to become better. Gradient Boosting is an iterative functional gradient algorithm, i.e an algorithm which minimizes a loss function by iteratively choosing a function that points towards the negative gradient; a weak hypothesis."
   ]
  },
  {
   "cell_type": "code",
   "execution_count": 13,
   "id": "df4590e8",
   "metadata": {
    "execution": {
     "iopub.execute_input": "2022-09-10T09:30:42.970621Z",
     "iopub.status.busy": "2022-09-10T09:30:42.970123Z",
     "iopub.status.idle": "2022-09-10T09:30:47.097664Z",
     "shell.execute_reply": "2022-09-10T09:30:47.095506Z"
    },
    "papermill": {
     "duration": 4.145791,
     "end_time": "2022-09-10T09:30:47.100530",
     "exception": false,
     "start_time": "2022-09-10T09:30:42.954739",
     "status": "completed"
    },
    "tags": []
   },
   "outputs": [
    {
     "name": "stdout",
     "output_type": "stream",
     "text": [
      "0.8316743082368082 0.017613761091088555\n"
     ]
    }
   ],
   "source": [
    "grd = GradientBoostingClassifier(n_estimators=300)\n",
    "pipeline = Pipeline(steps = [\n",
    "                    (\"transformer\", transform),\n",
    "                    (\"model\", grd)\n",
    "])\n",
    "scores_grd = cross_val_score(pipeline, X, y, cv = 8)\n",
    "print(scores_grd.mean(), scores_grd.std())"
   ]
  },
  {
   "cell_type": "markdown",
   "id": "411cc7ae",
   "metadata": {
    "papermill": {
     "duration": 0.007871,
     "end_time": "2022-09-10T09:30:47.117159",
     "exception": false,
     "start_time": "2022-09-10T09:30:47.109288",
     "status": "completed"
    },
    "tags": []
   },
   "source": [
    "### 7 . **Support Vector Machine - SVM**\n",
    "\n",
    "The Support Vector Machine is a simple algorithm for classification and regression tasks. It can provide high accuracy with less computation power very fast. Due to the large number of features, we are using the LinearSVC. It turned out that setting the regularisation parameter C=0.0001 improves the quality of the prediction and reduces overfitting."
   ]
  },
  {
   "cell_type": "code",
   "execution_count": 14,
   "id": "1c83ca73",
   "metadata": {
    "execution": {
     "iopub.execute_input": "2022-09-10T09:30:47.135441Z",
     "iopub.status.busy": "2022-09-10T09:30:47.134113Z",
     "iopub.status.idle": "2022-09-10T09:30:47.605122Z",
     "shell.execute_reply": "2022-09-10T09:30:47.603327Z"
    },
    "papermill": {
     "duration": 0.48565,
     "end_time": "2022-09-10T09:30:47.610618",
     "exception": false,
     "start_time": "2022-09-10T09:30:47.124968",
     "status": "completed"
    },
    "tags": []
   },
   "outputs": [
    {
     "name": "stdout",
     "output_type": "stream",
     "text": [
      "0.7228422619047619 0.034003124492333316\n"
     ]
    }
   ],
   "source": [
    "sv = LinearSVC(C=0.0001)\n",
    "pipeline = Pipeline(steps = [\n",
    "                    (\"transformer\", transform),\n",
    "                    (\"model\", sv)\n",
    "])\n",
    "scores_sv = cross_val_score(pipeline, X, y, cv = 8)\n",
    "print(scores_sv.mean(), scores_sv.std())"
   ]
  },
  {
   "cell_type": "markdown",
   "id": "3b93b5cb",
   "metadata": {
    "papermill": {
     "duration": 0.027623,
     "end_time": "2022-09-10T09:30:47.666732",
     "exception": false,
     "start_time": "2022-09-10T09:30:47.639109",
     "status": "completed"
    },
    "tags": []
   },
   "source": [
    "### 8 . **Neural Network**\n",
    "\n",
    "Deep learning uses an artificial neural network that uses multiple layers to progressively extract higher level features from the training data. We are using a simple three-layer network without any optimisation, except the usage of a small validation dataset. Here we are using Keras instead of Sklearn."
   ]
  },
  {
   "cell_type": "code",
   "execution_count": 15,
   "id": "9d262606",
   "metadata": {
    "execution": {
     "iopub.execute_input": "2022-09-10T09:30:47.698074Z",
     "iopub.status.busy": "2022-09-10T09:30:47.697614Z",
     "iopub.status.idle": "2022-09-10T09:31:11.960420Z",
     "shell.execute_reply": "2022-09-10T09:31:11.956319Z"
    },
    "papermill": {
     "duration": 24.277001,
     "end_time": "2022-09-10T09:31:11.965290",
     "exception": false,
     "start_time": "2022-09-10T09:30:47.688289",
     "status": "completed"
    },
    "tags": []
   },
   "outputs": [
    {
     "name": "stderr",
     "output_type": "stream",
     "text": [
      "/opt/conda/lib/python3.7/site-packages/sklearn/neural_network/_multilayer_perceptron.py:696: ConvergenceWarning: Stochastic Optimizer: Maximum iterations (300) reached and the optimization hasn't converged yet.\n",
      "  ConvergenceWarning,\n",
      "/opt/conda/lib/python3.7/site-packages/sklearn/neural_network/_multilayer_perceptron.py:696: ConvergenceWarning: Stochastic Optimizer: Maximum iterations (300) reached and the optimization hasn't converged yet.\n",
      "  ConvergenceWarning,\n",
      "/opt/conda/lib/python3.7/site-packages/sklearn/neural_network/_multilayer_perceptron.py:696: ConvergenceWarning: Stochastic Optimizer: Maximum iterations (300) reached and the optimization hasn't converged yet.\n",
      "  ConvergenceWarning,\n",
      "/opt/conda/lib/python3.7/site-packages/sklearn/neural_network/_multilayer_perceptron.py:696: ConvergenceWarning: Stochastic Optimizer: Maximum iterations (300) reached and the optimization hasn't converged yet.\n",
      "  ConvergenceWarning,\n",
      "/opt/conda/lib/python3.7/site-packages/sklearn/neural_network/_multilayer_perceptron.py:696: ConvergenceWarning: Stochastic Optimizer: Maximum iterations (300) reached and the optimization hasn't converged yet.\n",
      "  ConvergenceWarning,\n",
      "/opt/conda/lib/python3.7/site-packages/sklearn/neural_network/_multilayer_perceptron.py:696: ConvergenceWarning: Stochastic Optimizer: Maximum iterations (300) reached and the optimization hasn't converged yet.\n",
      "  ConvergenceWarning,\n",
      "/opt/conda/lib/python3.7/site-packages/sklearn/neural_network/_multilayer_perceptron.py:696: ConvergenceWarning: Stochastic Optimizer: Maximum iterations (300) reached and the optimization hasn't converged yet.\n",
      "  ConvergenceWarning,\n"
     ]
    },
    {
     "name": "stdout",
     "output_type": "stream",
     "text": [
      "0.8182412323037324 0.03325395854468399\n"
     ]
    },
    {
     "name": "stderr",
     "output_type": "stream",
     "text": [
      "/opt/conda/lib/python3.7/site-packages/sklearn/neural_network/_multilayer_perceptron.py:696: ConvergenceWarning: Stochastic Optimizer: Maximum iterations (300) reached and the optimization hasn't converged yet.\n",
      "  ConvergenceWarning,\n"
     ]
    }
   ],
   "source": [
    "mlp = MLPClassifier(max_iter=300)\n",
    "pipeline = Pipeline(steps = [\n",
    "                    (\"transformer\", transform),\n",
    "                    (\"model\", mlp)\n",
    "])\n",
    "scores_mlp = cross_val_score(pipeline, X, y, cv = 8)\n",
    "print(scores_mlp.mean(), scores_mlp.std())"
   ]
  },
  {
   "cell_type": "markdown",
   "id": "64c51daf",
   "metadata": {
    "papermill": {
     "duration": 0.02819,
     "end_time": "2022-09-10T09:31:12.023135",
     "exception": false,
     "start_time": "2022-09-10T09:31:11.994945",
     "status": "completed"
    },
    "tags": []
   },
   "source": [
    "### 9 . **Voting**\n",
    "\n",
    "This classifier from the ensemble learning toolbox evaluates different classifiers and selects the best out of it.\n",
    "\n",
    "The idea behind the VotingClassifier is to combine conceptually different machine learning classifiers and use a majority vote or the average predicted probabilities to predict the class labels. Such a classifier can be useful for a set of equally well performing models in order to balance out their individual weaknesses.\n",
    "\n",
    "So let’s use this classifier to combine some of the models we had so far and apply the Voting Classifier on:\n",
    "\n",
    "* Gradient Boossting\n",
    "* Random forest\n",
    "* Logistique Regression\n",
    "* Decision Tree"
   ]
  },
  {
   "cell_type": "code",
   "execution_count": 16,
   "id": "392c664c",
   "metadata": {
    "execution": {
     "iopub.execute_input": "2022-09-10T09:31:12.073995Z",
     "iopub.status.busy": "2022-09-10T09:31:12.073650Z",
     "iopub.status.idle": "2022-09-10T09:31:21.154585Z",
     "shell.execute_reply": "2022-09-10T09:31:21.152100Z"
    },
    "papermill": {
     "duration": 9.106075,
     "end_time": "2022-09-10T09:31:21.158547",
     "exception": false,
     "start_time": "2022-09-10T09:31:12.052472",
     "status": "completed"
    },
    "tags": []
   },
   "outputs": [
    {
     "name": "stdout",
     "output_type": "stream",
     "text": [
      "0.8159387065637065 0.028756934221351026\n"
     ]
    }
   ],
   "source": [
    "evc=VotingClassifier(estimators=[('nb',nb),('lr',lr),('rf',rand),('grd',grd)],voting='hard')\n",
    "pipeline = Pipeline(steps = [\n",
    "                    (\"transformer\", transform),\n",
    "                    (\"model\", evc)\n",
    "])\n",
    "scores_evc = cross_val_score(pipeline, X, y, cv = 8)\n",
    "print(scores_evc.mean(), scores_evc.std())"
   ]
  },
  {
   "cell_type": "markdown",
   "id": "e5d58273",
   "metadata": {
    "papermill": {
     "duration": 0.008839,
     "end_time": "2022-09-10T09:31:21.177324",
     "exception": false,
     "start_time": "2022-09-10T09:31:21.168485",
     "status": "completed"
    },
    "tags": []
   },
   "source": [
    "### 10 . **Boosting Decision Tree**\n",
    "\n",
    "In general, we can’t use Boosting to improve a completely overfitted model with score = 1. To apply Boosting, we first have to tweak the decision tree classifier a bit. It took me some trial and error until I got the best parameters for the Decision Tree and the AdaBoost Classifier. I am sure you can further improve by playing around a bit more."
   ]
  },
  {
   "cell_type": "code",
   "execution_count": 17,
   "id": "f2c58f35",
   "metadata": {
    "execution": {
     "iopub.execute_input": "2022-09-10T09:31:21.197436Z",
     "iopub.status.busy": "2022-09-10T09:31:21.196148Z",
     "iopub.status.idle": "2022-09-10T09:31:22.203925Z",
     "shell.execute_reply": "2022-09-10T09:31:22.201960Z"
    },
    "papermill": {
     "duration": 1.023077,
     "end_time": "2022-09-10T09:31:22.209204",
     "exception": false,
     "start_time": "2022-09-10T09:31:21.186127",
     "status": "completed"
    },
    "tags": []
   },
   "outputs": [
    {
     "name": "stdout",
     "output_type": "stream",
     "text": [
      "0.8047779922779923 0.02123441671350452\n"
     ]
    }
   ],
   "source": [
    "adb = AdaBoostClassifier(DecisionTreeClassifier(min_samples_split=10,max_depth=4),n_estimators=10,learning_rate=0.6)\n",
    "pipeline = Pipeline(steps = [\n",
    "                    (\"transformer\", transform),\n",
    "                    (\"model\", adb)\n",
    "])\n",
    "scores_adb = cross_val_score(pipeline, X, y, cv = 8)\n",
    "print(scores_adb.mean(), scores_adb.std())"
   ]
  },
  {
   "cell_type": "code",
   "execution_count": 18,
   "id": "d6a7481f",
   "metadata": {
    "execution": {
     "iopub.execute_input": "2022-09-10T09:31:22.233232Z",
     "iopub.status.busy": "2022-09-10T09:31:22.232833Z",
     "iopub.status.idle": "2022-09-10T09:31:22.543382Z",
     "shell.execute_reply": "2022-09-10T09:31:22.542094Z"
    },
    "papermill": {
     "duration": 0.323612,
     "end_time": "2022-09-10T09:31:22.546050",
     "exception": false,
     "start_time": "2022-09-10T09:31:22.222438",
     "status": "completed"
    },
    "tags": []
   },
   "outputs": [
    {
     "data": {
      "image/png": "[encoded data removed]",
      "text/plain": [
       "<Figure size 720x576 with 1 Axes>"
      ]
     },
     "metadata": {
      "needs_background": "light"
     },
     "output_type": "display_data"
    }
   ],
   "source": [
    "names = ['LogisticRegression' , 'Random Forest Classifier','Naive Bayes', 'SVM', 'Neural Network', \n",
    "         'Decision Tree', 'Gradient Boosting', 'Voting Classification', 'KNN', 'Boosting Decision Tree']\n",
    "acc = [scores_lr.mean(),scores_rand.mean(),scores_nb.mean(),scores_sv.mean(),scores_mlp.mean(),\n",
    "      scores_tr.mean(), scores_grd.mean(), scores_evc.mean(), scores_knn.mean(), scores_adb.mean()]\n",
    "\n",
    "plt.figure(figsize=(10,8))\n",
    "graph = plt.barh(names,acc)\n",
    "plt.xlabel('Accuracy')\n",
    "plt.ylabel('Models')    \n",
    "graph[0].set_color('red')\n",
    "graph[1].set_color('blue')\n",
    "graph[3].set_color('green')\n",
    "graph[4].set_color('yellow')\n",
    "graph[5].set_color('maroon')\n",
    "graph[6].set_color('grey')\n",
    "graph[7].set_color('brown')\n",
    "graph[8].set_color('orange')\n",
    "graph[9].set_color('pink')"
   ]
  },
  {
   "cell_type": "markdown",
   "id": "4e00f4f2",
   "metadata": {
    "papermill": {
     "duration": 0.008884,
     "end_time": "2022-09-10T09:31:22.564606",
     "exception": false,
     "start_time": "2022-09-10T09:31:22.555722",
     "status": "completed"
    },
    "tags": []
   },
   "source": [
    "## __CONCLUSION__ :\n",
    "Thank you for reading this notebook, it is an educational notebook, no competitive submissions are made.\n",
    "If you have any misunderstanding let me know in the comments.\n",
    "If you enjoyed let me know it will help me produce other notebbok for educational purposes"
   ]
  }
 ],
 "metadata": {
  "kernelspec": {
   "display_name": "Python 3",
   "language": "python",
   "name": "python3"
  },
  "language_info": {
   "codemirror_mode": {
    "name": "ipython",
    "version": 3
   },
   "file_extension": ".py",
   "mimetype": "text/x-python",
   "name": "python",
   "nbconvert_exporter": "python",
   "pygments_lexer": "ipython3",
   "version": "3.7.12"
  },
  "papermill": {
   "default_parameters": {},
   "duration": 58.866327,
   "end_time": "2022-09-10T09:31:23.199885",
   "environment_variables": {},
   "exception": null,
   "input_path": "__notebook__.ipynb",
   "output_path": "__notebook__.ipynb",
   "parameters": {},
   "start_time": "2022-09-10T09:30:24.333558",
   "version": "2.3.4"
  }
 },
 "nbformat": 4,
 "nbformat_minor": 5
}
